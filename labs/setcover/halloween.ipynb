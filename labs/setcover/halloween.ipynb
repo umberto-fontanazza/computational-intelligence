{
 "cells": [
  {
   "cell_type": "markdown",
   "id": "185f9931-b384-4fdc-a5b2-eea785428bb8",
   "metadata": {},
   "source": [
    "Copyright **`(c)`** 2023 Giovanni Squillero `<giovanni.squillero@polito.it>`  \n",
    "[`https://github.com/squillero/computational-intelligence`](https://github.com/squillero/computational-intelligence)  \n",
    "Free for personal or classroom use; see [`LICENSE.md`](https://github.com/squillero/computational-intelligence/blob/master/LICENSE.md) for details.  "
   ]
  },
  {
   "cell_type": "code",
   "execution_count": 1,
   "id": "3ffe7245-e849-41d0-9698-5f0e0b83fee9",
   "metadata": {},
   "outputs": [],
   "source": [
    "from typing import Callable\n",
    "from itertools import product\n",
    "from random import random, randint, shuffle, seed\n",
    "import numpy as np\n",
    "from nptyping import NDArray, Shape, Int, Bool\n",
    "from scipy import sparse as sp\n",
    "from math import ceil\n",
    "from pprint import pprint"
   ]
  },
  {
   "cell_type": "code",
   "execution_count": 2,
   "id": "6f03bd67-78a0-4d72-95b7-77a918727b91",
   "metadata": {},
   "outputs": [],
   "source": [
    "seed_initializer = 2654435761\n",
    "\n",
    "def make_set_covering_problem(num_points, num_sets, density) -> sp.lil_array:\n",
    "    \"\"\"Returns a sparse array where rows are sets and columns are the covered items\"\"\"\n",
    "    seed(num_points * seed_initializer + num_sets + density)\n",
    "    sets = sp.lil_array((num_sets, num_points), dtype=bool)\n",
    "    for s, p in product(range(num_sets), range(num_points)):\n",
    "        if random() < density:\n",
    "            sets[s, p] = True\n",
    "    for p in range(num_points):\n",
    "        sets[randint(0, num_sets-1), p] = True\n",
    "    return sets"
   ]
  },
  {
   "cell_type": "markdown",
   "id": "82b0be37-21d9-492d-9a1d-cf0cdf0ddd76",
   "metadata": {},
   "source": [
    "# Halloween Challenge\n",
    "\n",
    "Find the best solution with the fewest calls to the fitness functions for:\n",
    "\n",
    "* `num_points = [100, 1_000, 5_000]`\n",
    "* `num_sets = num_points`\n",
    "* `density = [.3, .7]` "
   ]
  },
  {
   "cell_type": "code",
   "execution_count": 3,
   "id": "671dc2e9",
   "metadata": {},
   "outputs": [],
   "source": [
    "problem_sizes = [100, 1_000, 5_000]\n",
    "densities = [.3, .7]"
   ]
  },
  {
   "cell_type": "code",
   "execution_count": 4,
   "id": "3c4368be",
   "metadata": {},
   "outputs": [],
   "source": [
    "def overlap_sets(covering_sets: sp.lil_array) -> NDArray[Shape[\"1, ...\"], Bool]:\n",
    "    sum: NDArray[Shape[\"1, ...\"], Int] = covering_sets.sum(axis=0) # dtype=bool?\n",
    "    boolean_array_mapper = np.vectorize(lambda x: x > 0)\n",
    "    return boolean_array_mapper(sum)"
   ]
  },
  {
   "cell_type": "code",
   "execution_count": 5,
   "id": "4800c244",
   "metadata": {},
   "outputs": [],
   "source": [
    "def fitness(state: list[bool], covering_sets: sp.lil_array):\n",
    "    taken_sets_indices: list[int] = [i for i, x in enumerate(state) if x]\n",
    "    # taken_sets: sparse.lil_array = filter_covering_sets(covering_sets, taken_sets_indices)\n",
    "    taken_sets: sparse.lil_array = covering_sets[taken_sets_indices, :] # type: ignore\n",
    "    reduced = overlap_sets(taken_sets)\n",
    "    coverage = sum(reduced)\n",
    "    cost = len(taken_sets_indices)\n",
    "    return (coverage, -cost)"
   ]
  },
  {
   "cell_type": "code",
   "execution_count": 6,
   "id": "f8a28080",
   "metadata": {},
   "outputs": [],
   "source": [
    "def tweak(state: list[bool], probability_weights: NDArray | None = None) -> list[list[bool]]:\n",
    "    ''' Tweak may be fed with an array of probability weights, which purpose is to increase the probability\n",
    "        that the tweak is made on a covering set with a rare item '''\n",
    "    if probability_weights is not None:\n",
    "        changing_index = np.random.choice(len(state), p=probability_weights)\n",
    "    else:\n",
    "        changing_index = randint(0, len(state) - 1)\n",
    "    return [[not x if i == changing_index else x for i, x in enumerate(state)]]"
   ]
  },
  {
   "cell_type": "code",
   "execution_count": 7,
   "id": "86b93eb4",
   "metadata": {},
   "outputs": [],
   "source": [
    "def elements_rarity_scores(covering_sets: sp.lil_array) -> NDArray[Shape[\"1, ...\"], Int]:\n",
    "    rows_sum: NDArray[Shape[\"1, ...\"], Int] = covering_sets.sum(axis=0) # shape is [1, number of points]\n",
    "    sets_per_element: int = ceil(np.average(rows_sum).item()) # approximated\n",
    "    elements_rarity_score: NDArray = np.repeat(sets_per_element, len(rows_sum)) - rows_sum\n",
    "    return np.where(elements_rarity_score >= 0, elements_rarity_score, np.zeros(shape = elements_rarity_score.shape, dtype = elements_rarity_score.dtype))\n"
   ]
  },
  {
   "cell_type": "code",
   "execution_count": 8,
   "id": "a155726b",
   "metadata": {},
   "outputs": [],
   "source": [
    "# https://stackoverflow.com/questions/77417902/how-to-map-scipy-sparse-lil-array\n",
    "def covering_sets_scores(covering_sets: sp.lil_array, elements_scores: NDArray[Shape[\"1, ...\"], Int]) -> NDArray[Shape[\"1, ...\"], Int]:\n",
    "    assert len(elements_scores.shape) == 1, \"x should be 1d\"\n",
    "    row, col = covering_sets.nonzero()\n",
    "    xx = elements_scores[col]\n",
    "    data = np.empty(row.shape, dtype=elements_scores.dtype)\n",
    "    data[:] = xx\n",
    "    sets_with_scores = sp.coo_matrix((data, (row, col)), shape=covering_sets.shape)\n",
    "    sets_with_scores.eliminate_zeros()\n",
    "    lil: sp.lil_matrix = sets_with_scores.tolil()\n",
    "    set_scores: NDArray = np.asarray(lil.sum(axis=1))\n",
    "    return np.squeeze(set_scores)\n"
   ]
  },
  {
   "cell_type": "code",
   "execution_count": 9,
   "id": "2324148d",
   "metadata": {},
   "outputs": [],
   "source": [
    "def covering_sets_weights(covering_sets: sp.lil_array):\n",
    "    ''' Returns the average of a uniform distribution and normalized set_scores '''\n",
    "    elements_scores = elements_rarity_scores(covering_sets)\n",
    "    set_scores = covering_sets_scores(covering_sets, elements_scores)\n",
    "    norm_one = sum(set_scores)\n",
    "    return (np.repeat(1 / len(set_scores), len(set_scores)) + set_scores / norm_one) / 2"
   ]
  },
  {
   "cell_type": "code",
   "execution_count": 10,
   "id": "0a478a1a",
   "metadata": {},
   "outputs": [],
   "source": [
    "def solve(problem_size: int, density: float, fitness_func: Callable, tweak_func: Callable, computing_set_scores = False, step_limit = 200):\n",
    "    covering_sets: sp.lil_array = make_set_covering_problem(num_points=problem_size, num_sets=problem_size, density=density)\n",
    "    initial_state = [False for _ in range(problem_size)]\n",
    "    probability_weights = covering_sets_weights(covering_sets) if computing_set_scores else None\n",
    "    fitness_calls = 0\n",
    "\n",
    "    step = 1\n",
    "    non_improving_steps = 0\n",
    "    current_fitness, fitness_calls = fitness_func(initial_state, covering_sets), fitness_calls + 1\n",
    "    current_state = initial_state\n",
    "    while step <= step_limit:\n",
    "        children_states = tweak(current_state, probability_weights)\n",
    "        for child_state in children_states:\n",
    "            child_fitness, fitness_calls = fitness_func(child_state, covering_sets), fitness_calls + 1\n",
    "            if child_fitness > current_fitness:\n",
    "                current_fitness, current_state = child_fitness, child_state\n",
    "                non_improving_steps = 0\n",
    "        if non_improving_steps > 5:\n",
    "            break\n",
    "        step += 1\n",
    "        non_improving_steps += 1\n",
    "\n",
    "    return (current_fitness, fitness_calls)\n"
   ]
  },
  {
   "cell_type": "code",
   "execution_count": 11,
   "id": "1ef67ec1",
   "metadata": {},
   "outputs": [
    {
     "name": "stdout",
     "output_type": "stream",
     "text": [
      "(100, -11) 20 Using weights\n",
      "(100, -10) 21\n",
      "(100, -4) 11 Using weights\n",
      "(100, -4) 11\n",
      "(999, -16) 26 Using weights\n",
      "(1000, -19) 29\n",
      "(1000, -6) 13 Using weights\n",
      "(1000, -6) 13\n",
      "(5000, -23) 35 Using weights\n",
      "(5000, -22) 31\n",
      "(5000, -8) 18 Using weights\n",
      "(5000, -8) 16\n"
     ]
    }
   ],
   "source": [
    "for problem_size, density in product(problem_sizes, densities):\n",
    "    fitness_score, calls = solve(problem_size, density, fitness, tweak, computing_set_scores = True)\n",
    "    print(fitness_score, calls, 'Using weights')\n",
    "    fitness_score, calls = solve(problem_size, density, fitness, tweak, computing_set_scores = False)\n",
    "    print(fitness_score, calls)"
   ]
  }
 ],
 "metadata": {
  "kernelspec": {
   "display_name": "Python 3 (ipykernel)",
   "language": "python",
   "name": "python3"
  },
  "language_info": {
   "codemirror_mode": {
    "name": "ipython",
    "version": 3
   },
   "file_extension": ".py",
   "mimetype": "text/x-python",
   "name": "python",
   "nbconvert_exporter": "python",
   "pygments_lexer": "ipython3",
   "version": "3.12.0"
  }
 },
 "nbformat": 4,
 "nbformat_minor": 5
}
