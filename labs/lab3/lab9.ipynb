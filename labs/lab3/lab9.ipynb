{
 "cells": [
  {
   "cell_type": "markdown",
   "metadata": {},
   "source": [
    "Copyright **`(c)`** 2023 Giovanni Squillero `<giovanni.squillero@polito.it>`  \n",
    "[`https://github.com/squillero/computational-intelligence`](https://github.com/squillero/computational-intelligence)  \n",
    "Free for personal or classroom use; see [`LICENSE.md`](https://github.com/squillero/computational-intelligence/blob/master/LICENSE.md) for details.  "
   ]
  },
  {
   "cell_type": "markdown",
   "metadata": {},
   "source": [
    "# LAB9\n",
    "\n",
    "Write a local-search algorithm (eg. an EA) able to solve the *Problem* instances 1, 2, 5, and 10 on a 1000-loci genomes, using a minimum number of fitness calls. That's all.\n",
    "\n",
    "### Deadlines:\n",
    "\n",
    "* Submission: Sunday, December 3 ([CET](https://www.timeanddate.com/time/zones/cet))\n",
    "* Reviews: Sunday, December 10 ([CET](https://www.timeanddate.com/time/zones/cet))\n",
    "\n",
    "Notes:\n",
    "\n",
    "* Reviews will be assigned  on Monday, December 4\n",
    "* You need to commit in order to be selected as a reviewer (ie. better to commit an empty work than not to commit)"
   ]
  },
  {
   "cell_type": "code",
   "execution_count": null,
   "metadata": {},
   "outputs": [],
   "source": [
    "from typing import Callable\n",
    "from random import choices\n",
    "from lab9_lib import make_problem\n",
    "from src.genome import Genome"
   ]
  },
  {
   "cell_type": "code",
   "execution_count": null,
   "metadata": {},
   "outputs": [],
   "source": [
    "\n",
    "fitness : Callable[[list[int]], float] = make_problem(10)\n",
    "loci_count = 50\n",
    "# for _ in range(10):\n",
    "    # genome = choices([0, 1], k = loci_count)\n",
    "    # print(f\"{''.join(str(gene) for gene in genome)}: {fitness(genome):.2%}\")\n",
    "\n",
    "# print(fitness.calls)"
   ]
  },
  {
   "cell_type": "markdown",
   "metadata": {},
   "source": [
    "Let's check with an hill climber"
   ]
  },
  {
   "cell_type": "code",
   "execution_count": null,
   "metadata": {},
   "outputs": [],
   "source": [
    "initial_genome = Genome.random(loci_count, fitness)\n",
    "current_genome: Genome = initial_genome\n",
    "non_improving_mutations = 0\n",
    "\n",
    "for i in range(1000):\n",
    "    print(f'Best fitness: {current_genome.fitness:.2%}, calls: {fitness.calls}')\n",
    "    child = current_genome.mutate2()\n",
    "    print(current_genome)\n",
    "    print(child)\n",
    "    if child.fitness > current_genome.fitness:\n",
    "        current_genome = child\n",
    "        non_improving_mutations = 0\n",
    "    else:\n",
    "        non_improving_mutations += 1\n",
    "    if non_improving_mutations == 10:\n",
    "        break\n",
    "\n",
    "print(f'Best fitness: {current_genome.fitness:.2%}, calls: {fitness.calls}')"
   ]
  }
 ],
 "metadata": {
  "kernelspec": {
   "display_name": "ci-fLJ3OwGs-py3.12",
   "language": "python",
   "name": "python3"
  },
  "language_info": {
   "codemirror_mode": {
    "name": "ipython",
    "version": 3
   },
   "file_extension": ".py",
   "mimetype": "text/x-python",
   "name": "python",
   "nbconvert_exporter": "python",
   "pygments_lexer": "ipython3",
   "version": "3.12.0"
  }
 },
 "nbformat": 4,
 "nbformat_minor": 2
}
