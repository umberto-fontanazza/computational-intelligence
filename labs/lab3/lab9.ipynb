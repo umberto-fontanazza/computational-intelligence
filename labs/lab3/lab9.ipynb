{
 "cells": [
  {
   "cell_type": "markdown",
   "metadata": {},
   "source": [
    "Copyright **`(c)`** 2023 Giovanni Squillero `<giovanni.squillero@polito.it>`  \n",
    "[`https://github.com/squillero/computational-intelligence`](https://github.com/squillero/computational-intelligence)  \n",
    "Free for personal or classroom use; see [`LICENSE.md`](https://github.com/squillero/computational-intelligence/blob/master/LICENSE.md) for details.  "
   ]
  },
  {
   "cell_type": "markdown",
   "metadata": {},
   "source": [
    "# LAB9\n",
    "\n",
    "Write a local-search algorithm (eg. an EA) able to solve the *Problem* instances 1, 2, 5, and 10 on a 1000-loci genomes, using a minimum number of fitness calls. That's all.\n",
    "\n",
    "### Deadlines:\n",
    "\n",
    "* Submission: Sunday, December 3 ([CET](https://www.timeanddate.com/time/zones/cet))\n",
    "* Reviews: Sunday, December 10 ([CET](https://www.timeanddate.com/time/zones/cet))\n",
    "\n",
    "Notes:\n",
    "\n",
    "* Reviews will be assigned  on Monday, December 4\n",
    "* You need to commit in order to be selected as a reviewer (ie. better to commit an empty work than not to commit)"
   ]
  },
  {
   "cell_type": "code",
   "execution_count": 1,
   "metadata": {},
   "outputs": [],
   "source": [
    "from typing import Callable\n",
    "from random import choices\n",
    "from lab9_lib import make_problem\n",
    "from src.genome import Genome"
   ]
  },
  {
   "cell_type": "code",
   "execution_count": 2,
   "metadata": {},
   "outputs": [],
   "source": [
    "\n",
    "fitness : Callable[[list[int]], float] = make_problem(10)\n",
    "loci_count = 50\n",
    "# for _ in range(10):\n",
    "    # genome = choices([0, 1], k = loci_count)\n",
    "    # print(f\"{''.join(str(gene) for gene in genome)}: {fitness(genome):.2%}\")\n",
    "\n",
    "# print(fitness.calls)"
   ]
  },
  {
   "cell_type": "markdown",
   "metadata": {},
   "source": [
    "Let's check with an hill climber"
   ]
  },
  {
   "cell_type": "code",
   "execution_count": 3,
   "metadata": {},
   "outputs": [
    {
     "name": "stdout",
     "output_type": "stream",
     "text": [
      "Best fitness: 7.33%, calls: 1\n",
      "01101000110111011101011001000110010001001000100101\n",
      "10011111001000100010100010111001101110110101011000\n",
      "Best fitness: 15.33%, calls: 2\n",
      "10011111001000100010100010111001101110110101011000\n",
      "00101000110111011101011000010100010001001010110101\n",
      "Best fitness: 23.56%, calls: 3\n",
      "00101000110111011101011000010100010001001010110101\n",
      "10011100000111110110000111101011101110010101001010\n",
      "Best fitness: 23.56%, calls: 4\n",
      "00101000110111011101011000010100010001001010110101\n",
      "01110001000100101000110111100011101110111101001110\n",
      "Best fitness: 23.56%, calls: 5\n",
      "00101000110111011101011000010100010001001010110101\n",
      "11011111101000100011000000111010111110100100001010\n",
      "Best fitness: 23.56%, calls: 6\n",
      "00101000110111011101011000010100010001001010110101\n",
      "01010100011010000010100110100010101110000101000010\n",
      "Best fitness: 23.56%, calls: 7\n",
      "00101000110111011101011000010100010001001010110101\n",
      "01010101001101111010100011111001101100010101001000\n",
      "Best fitness: 23.56%, calls: 8\n",
      "00101000110111011101011000010100010001001010110101\n",
      "10010111000010100100100111111001111110110001100110\n",
      "Best fitness: 23.56%, calls: 9\n",
      "00101000110111011101011000010100010001001010110101\n",
      "11010111000001010011001010101011101111000101001010\n",
      "Best fitness: 23.56%, calls: 10\n",
      "00101000110111011101011000010100010001001010110101\n",
      "11010010101110101110100110101011101100100111001000\n",
      "Best fitness: 31.33%, calls: 11\n",
      "11010010101110101110100110101011101100100111001000\n",
      "00010100001001010001101011000100110001001001101111\n",
      "Best fitness: 31.33%, calls: 12\n",
      "11010010101110101110100110101011101100100111001000\n",
      "01101111100001010111000000000101010011110001100011\n",
      "Best fitness: 31.33%, calls: 13\n",
      "11010010101110101110100110101011101100100111001000\n",
      "00001101001111100011011001011000111010001010100111\n",
      "Best fitness: 31.33%, calls: 14\n",
      "11010010101110101110100110101011101100100111001000\n",
      "01111100000100011001011101000101100011010100010110\n",
      "Best fitness: 31.33%, calls: 15\n",
      "11010010101110101110100110101011101100100111001000\n",
      "10111100010011011001011101110101110100101000010110\n",
      "Best fitness: 31.33%, calls: 16\n",
      "11010010101110101110100110101011101100100111001000\n",
      "10100100000100111001111111111000010011001010110111\n",
      "Best fitness: 31.33%, calls: 17\n",
      "11010010101110101110100110101011101100100111001000\n",
      "11011001010101000001011000011101010011111101101011\n",
      "Best fitness: 31.33%, calls: 18\n",
      "11010010101110101110100110101011101100100111001000\n",
      "00101011010011001110101001010000010010111000111010\n",
      "Best fitness: 31.33%, calls: 19\n",
      "11010010101110101110100110101011101100100111001000\n",
      "10101101010100011100110001110101010111011111100101\n",
      "Best fitness: 31.33%, calls: 20\n",
      "11010010101110101110100110101011101100100111001000\n",
      "10110101011001010101110000011100001111110100110011\n",
      "Best fitness: 31.33%, calls: 21\n"
     ]
    }
   ],
   "source": [
    "initial_genome = Genome.random(loci_count, fitness)\n",
    "\n",
    "best_found = initial_genome.climb_hill(max_steps = 1000)\n",
    "\n",
    "print(f'Best fitness: {best_found.fitness:.2%}, calls: {fitness.calls}')"
   ]
  }
 ],
 "metadata": {
  "kernelspec": {
   "display_name": "ci-fLJ3OwGs-py3.12",
   "language": "python",
   "name": "python3"
  },
  "language_info": {
   "codemirror_mode": {
    "name": "ipython",
    "version": 3
   },
   "file_extension": ".py",
   "mimetype": "text/x-python",
   "name": "python",
   "nbconvert_exporter": "python",
   "pygments_lexer": "ipython3",
   "version": "3.12.0"
  }
 },
 "nbformat": 4,
 "nbformat_minor": 2
}
