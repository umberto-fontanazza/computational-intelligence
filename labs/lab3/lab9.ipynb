{
 "cells": [
  {
   "cell_type": "markdown",
   "metadata": {},
   "source": [
    "Copyright **`(c)`** 2023 Giovanni Squillero `<giovanni.squillero@polito.it>`  \n",
    "[`https://github.com/squillero/computational-intelligence`](https://github.com/squillero/computational-intelligence)  \n",
    "Free for personal or classroom use; see [`LICENSE.md`](https://github.com/squillero/computational-intelligence/blob/master/LICENSE.md) for details.  "
   ]
  },
  {
   "cell_type": "markdown",
   "metadata": {},
   "source": [
    "# LAB9\n",
    "\n",
    "Write a local-search algorithm (eg. an EA) able to solve the *Problem* instances 1, 2, 5, and 10 on a 1000-loci genomes, using a minimum number of fitness calls. That's all.\n",
    "\n",
    "### Deadlines:\n",
    "\n",
    "* Submission: Sunday, December 3 ([CET](https://www.timeanddate.com/time/zones/cet))\n",
    "* Reviews: Sunday, December 10 ([CET](https://www.timeanddate.com/time/zones/cet))\n",
    "\n",
    "Notes:\n",
    "\n",
    "* Reviews will be assigned  on Monday, December 4\n",
    "* You need to commit in order to be selected as a reviewer (ie. better to commit an empty work than not to commit)"
   ]
  },
  {
   "cell_type": "code",
   "execution_count": 7,
   "metadata": {},
   "outputs": [],
   "source": [
    "from typing import Callable\n",
    "from random import choices\n",
    "from lab9_lib import make_problem\n",
    "from src.genome import Genome"
   ]
  },
  {
   "cell_type": "code",
   "execution_count": 8,
   "metadata": {},
   "outputs": [
    {
     "name": "stdout",
     "output_type": "stream",
     "text": [
      "01011000111101000000110101111100101101110011001101: 15.33%\n",
      "01111000001000101011011101011101100111010100011110: 7.33%\n",
      "11100001010110110001001110111010011011001001000100: 7.33%\n",
      "00000001001001100110010100111100111111010110100010: 7.33%\n",
      "11010101010010101101001010011010011011111100111001: 23.34%\n",
      "10101001101000111101010011011101110110000011000000: 23.56%\n",
      "01101110000110010100001011100010010110110100100100: 7.33%\n",
      "00011101100001010011010011011110000011100011011101: 23.34%\n",
      "10110000000110101100110011010100100111100011110111: 15.34%\n",
      "01000101101100100101011011100010111001010101111010: 15.34%\n",
      "10\n"
     ]
    }
   ],
   "source": [
    "\n",
    "fitness : Callable[[list[int]], float] = make_problem(10)\n",
    "loci_count = 50\n",
    "for _ in range(10):\n",
    "    genome = choices([0, 1], k = loci_count)\n",
    "    print(f\"{''.join(str(gene) for gene in genome)}: {fitness(genome):.2%}\")\n",
    "\n",
    "print(fitness.calls)"
   ]
  },
  {
   "cell_type": "code",
   "execution_count": 9,
   "metadata": {},
   "outputs": [],
   "source": [
    "initial_genome = Genome.random(loci_count)"
   ]
  },
  {
   "cell_type": "code",
   "execution_count": null,
   "metadata": {},
   "outputs": [],
   "source": []
  }
 ],
 "metadata": {
  "kernelspec": {
   "display_name": "ci-fLJ3OwGs-py3.12",
   "language": "python",
   "name": "python3"
  },
  "language_info": {
   "codemirror_mode": {
    "name": "ipython",
    "version": 3
   },
   "file_extension": ".py",
   "mimetype": "text/x-python",
   "name": "python",
   "nbconvert_exporter": "python",
   "pygments_lexer": "ipython3",
   "version": "3.12.0"
  }
 },
 "nbformat": 4,
 "nbformat_minor": 2
}
