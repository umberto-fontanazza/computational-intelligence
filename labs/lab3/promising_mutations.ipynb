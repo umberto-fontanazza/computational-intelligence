{
 "cells": [
  {
   "cell_type": "code",
   "execution_count": 7,
   "metadata": {},
   "outputs": [],
   "source": [
    "from typing import Callable\n",
    "from lab9_lib import make_problem\n",
    "from src.genome import Genome\n",
    "from src.population import Population"
   ]
  },
  {
   "cell_type": "markdown",
   "metadata": {},
   "source": [
    "## Working of chromosomes\n",
    "\n",
    "The idea is to understand which parts of a good genome make it good and which part must be improved. If we have 2 good genomes and a technique to understand which part of a genome is good then we can improve the average fitness of recombination (xover) outcome.\n",
    "\n",
    "Unfortunately the proposed technique to understand which part of a genome is good requires to call the fitness function but this may still give an advantage overall.\n",
    "\n",
    "The method to understand which part of a genome is good involves the following:\n",
    "1. generate a random genome(whoose fitness is close to expected fitness, so a common random genome)\n",
    "2. select some genes from the good genome with a bitmask (like a subnet mask used for networks) these bits compose the chromosome we are evaluating\n",
    "3. create a new genome which is the clone of the random one then inset the chromosome from the good one.\n",
    "4. measure the difference between `random_with_chromosome.fitness` and `random.fitness` that's the fitness gain of the chromosome.\n",
    "\n",
    "If the fitness gain of the chromosome is negative that means we are looking at a chromosome which is a promising target for mutation to improve furthermore the fitness in the good genome.\n",
    "\n",
    "The following code tries to exemplify the application of this idea but fails in some ways:\n",
    "- Fitness gain should be measured against a pletora of random genomes (this involves calling fitness many more times)\n",
    "- The possible chromosomes for each genome is the powerset of genes so clearly this space cannot be explored, but a technique to select best attempts it's not proposed. (Maybe can be used to verify differences among good fitting genomes?)"
   ]
  },
  {
   "cell_type": "code",
   "execution_count": 8,
   "metadata": {},
   "outputs": [],
   "source": [
    "fitness_fn : Callable[[list[int]], float] = make_problem(1)\n",
    "loci_count = 100\n",
    "initial_population = Population.initial(loci_count, fitness_fn)"
   ]
  },
  {
   "cell_type": "code",
   "execution_count": 9,
   "metadata": {},
   "outputs": [],
   "source": [
    "best = initial_population.best_genome\n",
    "reference = initial_population.reference_random_genome"
   ]
  },
  {
   "cell_type": "code",
   "execution_count": 10,
   "metadata": {},
   "outputs": [
    {
     "name": "stdout",
     "output_type": "stream",
     "text": [
      "\n",
      "1111111101110011101010111111011101010111111011111110010111010001001100110111100001101111100110010011, fitness: 66.00%\n",
      "chromosome 0 gain: 0.020000000000000018\n",
      "chromosome 1 gain: 0.0\n",
      "chromosome 2 gain: 0.030000000000000027\n",
      "chromosome 3 gain: 0.010000000000000009\n",
      "chromosome 4 gain: 0.030000000000000027\n",
      "chromosome 5 gain: 0.0\n",
      "chromosome 6 gain: 0.0\n",
      "chromosome 7 gain: -0.020000000000000018\n",
      "chromosome 8 gain: 0.05999999999999994\n",
      "chromosome 9 gain: 0.0\n"
     ]
    }
   ],
   "source": [
    "def analize_chromosomes(genome: Genome):\n",
    "    print(genome)\n",
    "    for i in range(10):\n",
    "        group_selector = i\n",
    "        mask_ten = [True if i > 10 * group_selector and i < 10 * (group_selector + 1) else False for i in range(100)]\n",
    "        chromosome_gain = genome.chromosome_fitness_gain(mask= mask_ten, reference_random_genome = reference)\n",
    "        print(f'chromosome {i} gain: {chromosome_gain}')\n",
    "\n",
    "print()\n",
    "analize_chromosomes(genome=best)"
   ]
  },
  {
   "cell_type": "code",
   "execution_count": 11,
   "metadata": {},
   "outputs": [
    {
     "name": "stdout",
     "output_type": "stream",
     "text": [
      "0001101010111101110111110110111101101010110100000110100100000001001111111111101010110111110110110011, fitness: 60.00%\n",
      "chromosome 0 gain: -0.020000000000000018\n",
      "chromosome 1 gain: 0.020000000000000018\n",
      "chromosome 2 gain: 0.030000000000000027\n",
      "chromosome 3 gain: 0.0\n",
      "chromosome 4 gain: -0.020000000000000018\n",
      "chromosome 5 gain: -0.030000000000000027\n",
      "chromosome 6 gain: 0.020000000000000018\n",
      "chromosome 7 gain: 0.0\n",
      "chromosome 8 gain: 0.05999999999999994\n",
      "chromosome 9 gain: 0.010000000000000009\n"
     ]
    }
   ],
   "source": [
    "other = Genome.random(len(best.genes), fitness_fn).climb_hill()\n",
    "analize_chromosomes(other)"
   ]
  },
  {
   "cell_type": "code",
   "execution_count": 12,
   "metadata": {},
   "outputs": [
    {
     "name": "stdout",
     "output_type": "stream",
     "text": [
      "Other:     0001101010111101110111110110111101101010110100000110100100000001001111111111101010110111110110110011, fitness: 60.00%\n",
      "Mask:      1111111111111111111111111111111111111111111111111111111111111111111111000000000011111111111111111111\n",
      "Best       1111111101110011101010111111011101010111111011111110010111010001001100110111100001101111100110010011, fitness: 66.00%\n",
      "Improved   1111111101110011101010111111011101010111111011111110010111010001001100111111101001101111100110010011, fitness: 68.00%\n"
     ]
    }
   ],
   "source": [
    "combination_mask = [False if (i in range(70,80)) else True for i in range(100)]\n",
    "improved_best = best.combine_masked(other, combination_mask)\n",
    "\n",
    "print(f'{'Other:':10}', other)\n",
    "print(f'{'Mask:':10}', ''.join(['1' if i else '0' for i in combination_mask]))\n",
    "print(f'{'Best':10}', best)\n",
    "print(f'{'Improved':10}', improved_best)\n"
   ]
  }
 ],
 "metadata": {
  "kernelspec": {
   "display_name": "comp-int",
   "language": "python",
   "name": "python3"
  },
  "language_info": {
   "codemirror_mode": {
    "name": "ipython",
    "version": 3
   },
   "file_extension": ".py",
   "mimetype": "text/x-python",
   "name": "python",
   "nbconvert_exporter": "python",
   "pygments_lexer": "ipython3",
   "version": "3.12.0"
  }
 },
 "nbformat": 4,
 "nbformat_minor": 2
}
