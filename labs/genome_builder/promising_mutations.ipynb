{
 "cells": [
  {
   "cell_type": "code",
   "execution_count": 1,
   "metadata": {},
   "outputs": [],
   "source": [
    "from typing import Callable\n",
    "from lab9_lib import make_problem\n",
    "from src.genome import Genome\n",
    "from src.population import Population\n",
    "from src.chromosome import Chromosome, Mask\n",
    "from random import shuffle\n",
    "from itertools import product"
   ]
  },
  {
   "cell_type": "markdown",
   "metadata": {},
   "source": [
    "## Working with chromosomes\n",
    "\n",
    "The idea is to understand which parts of a good genome make it good and which part must be improved. If we have 2 good genomes and a technique to understand which part of a genome is good then we can improve the average fitness of recombination (xover) outcome.\n",
    "\n",
    "Unfortunately the proposed technique to understand which part of a genome is good requires to call the fitness function but this may still give an advantage overall.\n",
    "\n",
    "The method to understand which part of a genome is good involves the following:\n",
    "1. generate a random genome(whoose fitness is close to expected fitness, so a common random genome)\n",
    "2. select some genes from the good genome with a bitmask (like a subnet mask used for networks) these bits compose the chromosome we are evaluating\n",
    "3. create a new genome which is the clone of the random one then inset the chromosome from the good one.\n",
    "4. measure the difference between `random_with_chromosome.fitness` and `random.fitness` that's the fitness gain of the chromosome.\n",
    "\n",
    "If the fitness gain of the chromosome is negative that means we are looking at a chromosome which is a promising target for mutation to improve furthermore the fitness in the good genome.\n",
    "\n",
    "The following code tries to exemplify the application of this idea but fails in some ways:\n",
    "- Fitness gain should be measured against a pletora of random genomes (this involves calling fitness many more times)\n",
    "- The possible chromosomes for each genome is the powerset of genes so clearly this space cannot be explored, but a technique to select best attempts it's not proposed. (Maybe can be used to verify differences among good fitting genomes?)"
   ]
  },
  {
   "cell_type": "code",
   "execution_count": 2,
   "metadata": {},
   "outputs": [],
   "source": [
    "fitness_fn : Callable[[list[int]], float] = make_problem(10)\n",
    "loci_count = 100\n",
    "initial_population = Population.initial(loci_count, fitness_fn, population_size = 100)\n",
    "random_reference_pop = Population.random(loci_count, fitness_fn, population_size = 100)\n",
    "chromosome_fitness_samples : dict[Chromosome, list[float]] = dict()"
   ]
  },
  {
   "cell_type": "code",
   "execution_count": 3,
   "metadata": {},
   "outputs": [
    {
     "name": "stdout",
     "output_type": "stream",
     "text": [
      "0010000001000001000000000001000100000101010000000000100001000000100000000000000000000000100000001000\n"
     ]
    }
   ],
   "source": [
    "mask_seed = [True if i < 13 else False for i in range(loci_count)]\n",
    "shuffle(mask_seed)\n",
    "mask: Mask = tuple(mask_seed)\n",
    "print(''.join(['1' if bit else '0' for bit in mask]))"
   ]
  },
  {
   "cell_type": "code",
   "execution_count": 4,
   "metadata": {},
   "outputs": [],
   "source": [
    "chromosome_pool : list[Chromosome] = [gene.extract_chromosome(mask) for gene in initial_population.genomes]"
   ]
  },
  {
   "cell_type": "code",
   "execution_count": 5,
   "metadata": {},
   "outputs": [],
   "source": [
    "def chromosome_fitness_sample(c: Chromosome, random_genome: Genome) -> float:\n",
    "    \"\"\"Fitness of the chromosome would be an evaluation of this differential with respect to an infinite amount of random genomes,\n",
    "    this is a sample from the fitness distribution\"\"\"\n",
    "\n",
    "    mutated_random = random_genome.assign_chromosome(c)\n",
    "    return mutated_random.fitness - random_genome.fitness"
   ]
  },
  {
   "cell_type": "code",
   "execution_count": 6,
   "metadata": {},
   "outputs": [],
   "source": [
    "for chromosome in chromosome_pool:\n",
    "    chromosome_fitness_samples[chromosome] = []\n",
    "\n",
    "for random_genome, chromosome in product(random_reference_pop.genomes, chromosome_pool):\n",
    "    sample = chromosome_fitness_sample(chromosome, random_genome)\n",
    "    chromosome_fitness_samples[chromosome].append(sample)\n",
    "\n",
    "chromosome_fitness_approx = dict()\n",
    "for chromosome, samples in chromosome_fitness_samples.items():\n",
    "    avg = sum(samples) / len(samples)\n",
    "    chromosome_fitness_approx[chromosome] = avg\n",
    "\n",
    "best_chromosome : Chromosome = max(chromosome_fitness_approx.items(), key = lambda entry : entry[1])[0]"
   ]
  },
  {
   "cell_type": "code",
   "execution_count": 7,
   "metadata": {},
   "outputs": [
    {
     "name": "stdout",
     "output_type": "stream",
     "text": [
      "initial_population.average_fitness = 25.70%\n",
      "mutated_with_chromosome.average_fitness = 15.37%\n"
     ]
    }
   ],
   "source": [
    "initial_with_chromosome = []\n",
    "for genome in initial_population.genomes:\n",
    "    mutated = genome.assign_chromosome(best_chromosome)\n",
    "    initial_with_chromosome.append(mutated)\n",
    "\n",
    "mutated_with_chromosome = Population(initial_with_chromosome)\n",
    "\n",
    "print(f'{initial_population.average_fitness = :.2%}')\n",
    "print(f'{mutated_with_chromosome.average_fitness = :.2%}')"
   ]
  },
  {
   "cell_type": "markdown",
   "metadata": {},
   "source": [
    "## Recap\n",
    "\n",
    "From an initial optimized population of 100 genes, for each genome a chromosome (subset of loci) is extracted, these 100 extracted chromosomes are the chromosome_pool.\n",
    "For each chromosome in the pool the fitness of the chromosome is calculated (this is the tricky part, more follows).\n",
    "The 'best fit' chromosome is then applied to all the individuals in the initial population to form a new mutated population.\n",
    "The average fitness of the initial vs mutated population are then compared.\n",
    "\n",
    "## Conclusions\n",
    "\n",
    "While this approach seems to work with instance 1, it is not working with instance 10\n",
    "\n",
    "## Chromosome fitness\n",
    "\n",
    "Assigning a fitness value to a chromosome is tricky and dangerous, the idea to evaluate chromosome fitness is to force this subset of loci on a set of random genomes and measure the fitness differencial between the randoms and randoms with the chromosome, this is a fitness sample.\n",
    "\n",
    "The samples are then averaged to extimate chromosome fitness."
   ]
  }
 ],
 "metadata": {
  "kernelspec": {
   "display_name": "comp-int",
   "language": "python",
   "name": "python3"
  },
  "language_info": {
   "codemirror_mode": {
    "name": "ipython",
    "version": 3
   },
   "file_extension": ".py",
   "mimetype": "text/x-python",
   "name": "python",
   "nbconvert_exporter": "python",
   "pygments_lexer": "ipython3",
   "version": "3.12.0"
  }
 },
 "nbformat": 4,
 "nbformat_minor": 2
}
