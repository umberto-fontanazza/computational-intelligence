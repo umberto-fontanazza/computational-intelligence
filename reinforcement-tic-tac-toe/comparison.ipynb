{
 "cells": [
  {
   "cell_type": "code",
   "execution_count": 1,
   "metadata": {},
   "outputs": [
    {
     "name": "stdout",
     "output_type": "stream",
     "text": [
      "{'Draw': 52917, 'Loss': 72142, 'Win': 374941}\n",
      "{'Draw': 52817, 'Loss': 46475, 'Win': 400708}\n"
     ]
    }
   ],
   "source": [
    "from queue import Queue\n",
    "from src.agent import Agent\n",
    "from src.game import play_game\n",
    "from src.policy import random_policy\n",
    "from pprint import pprint\n",
    "\n",
    "traditional = Agent(pending_q_updates = Queue())\n",
    "optimized = Agent()\n",
    "\n",
    "training_games = 5_000\n",
    "testing_games = 500_000\n",
    "\n",
    "for game in range(training_games):\n",
    "    agent_starts = game > (training_games // 2)\n",
    "    play_game(traditional, random_policy, agent_starts = agent_starts, training = True)\n",
    "    play_game(optimized, random_policy, agent_starts = agent_starts, training = True)\n",
    "\n",
    "results: dict = {\n",
    "    'Win': 0,\n",
    "    'Loss': 0,\n",
    "    'Draw': 0\n",
    "}\n",
    "\n",
    "for testing_game in range(testing_games):\n",
    "    agent_starts = testing_game > (testing_games // 2)\n",
    "    outcome = play_game(traditional, random_policy, agent_starts = agent_starts)\n",
    "    results[outcome] += 1\n",
    "\n",
    "pprint(results)\n",
    "results: dict = {\n",
    "    'Win': 0,\n",
    "    'Loss': 0,\n",
    "    'Draw': 0\n",
    "}\n",
    "\n",
    "for testing_game in range(testing_games):\n",
    "    agent_starts = testing_game > (testing_games // 2)\n",
    "    outcome = play_game(optimized, random_policy, agent_starts = agent_starts)\n",
    "    results[outcome] += 1\n",
    "\n",
    "pprint(results)"
   ]
  }
 ],
 "metadata": {
  "kernelspec": {
   "display_name": "comp-int",
   "language": "python",
   "name": "python3"
  },
  "language_info": {
   "codemirror_mode": {
    "name": "ipython",
    "version": 3
   },
   "file_extension": ".py",
   "mimetype": "text/x-python",
   "name": "python",
   "nbconvert_exporter": "python",
   "pygments_lexer": "ipython3",
   "version": "3.12.0"
  }
 },
 "nbformat": 4,
 "nbformat_minor": 2
}
