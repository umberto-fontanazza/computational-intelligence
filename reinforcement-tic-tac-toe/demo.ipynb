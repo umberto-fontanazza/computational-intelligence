{
 "cells": [
  {
   "cell_type": "code",
   "execution_count": 1,
   "metadata": {},
   "outputs": [],
   "source": [
    "from src.agent import Agent\n",
    "from src.game import play_game\n",
    "from src.policy import random_policy, simple_policy, human_policy\n",
    "\n",
    "agent = Agent()\n",
    "\n",
    "# let's train the agent as the starting player\n",
    "training_games = 5_000\n",
    "for _ in range(training_games):\n",
    "    play_game(agent, opponent = random_policy, training = True)"
   ]
  },
  {
   "cell_type": "markdown",
   "metadata": {},
   "source": [
    "Now let's test the trained agent with one of the provided policies, for example the simple_policy"
   ]
  },
  {
   "cell_type": "code",
   "execution_count": 2,
   "metadata": {},
   "outputs": [
    {
     "name": "stdout",
     "output_type": "stream",
     "text": [
      "wins = 90, losses = 2, ties = 8\n"
     ]
    }
   ],
   "source": [
    "testing_opponent = simple_policy\n",
    "testing_games = 100\n",
    "\n",
    "wins = losses = 0\n",
    "for _ in range(testing_games):\n",
    "    outcome = play_game(agent, opponent = testing_opponent)\n",
    "    if outcome == 'Win':\n",
    "        wins += 1\n",
    "    if outcome == 'Loss':\n",
    "        losses += 1\n",
    "ties = testing_games - wins - losses\n",
    "\n",
    "print(f'{wins = }, {losses = }, {ties = }')"
   ]
  },
  {
   "cell_type": "markdown",
   "metadata": {},
   "source": [
    "It's important to note that the agent is trained as the starting player now so if we make it play as O (second player) it won't be good."
   ]
  },
  {
   "cell_type": "code",
   "execution_count": 3,
   "metadata": {},
   "outputs": [
    {
     "name": "stdout",
     "output_type": "stream",
     "text": [
      "wins = 13, losses = 81, ties = 6\n"
     ]
    }
   ],
   "source": [
    "wins = losses = 0\n",
    "for _ in range(testing_games):\n",
    "    outcome = play_game(agent, opponent = testing_opponent, agent_starts = False)\n",
    "    if outcome == 'Win':\n",
    "        wins += 1\n",
    "    if outcome == 'Loss':\n",
    "        losses += 1\n",
    "ties = testing_games - wins - losses\n",
    "print(f'{wins = }, {losses = }, {ties = }')"
   ]
  },
  {
   "cell_type": "markdown",
   "metadata": {},
   "source": [
    "But one of the main advantages of q learning is that we can further train the same agent with additional games"
   ]
  },
  {
   "cell_type": "code",
   "execution_count": 4,
   "metadata": {},
   "outputs": [],
   "source": [
    "for _ in range(training_games):\n",
    "    play_game(agent, opponent = random_policy, training = True, agent_starts = False)"
   ]
  },
  {
   "cell_type": "code",
   "execution_count": 5,
   "metadata": {},
   "outputs": [
    {
     "name": "stdout",
     "output_type": "stream",
     "text": [
      "wins = 65, losses = 20, ties = 15\n"
     ]
    }
   ],
   "source": [
    "wins = losses = 0\n",
    "for _ in range(testing_games):\n",
    "    outcome = play_game(agent, opponent = testing_opponent, agent_starts = False)\n",
    "    if outcome == 'Win':\n",
    "        wins += 1\n",
    "    if outcome == 'Loss':\n",
    "        losses += 1\n",
    "ties = testing_games - wins - losses\n",
    "print(f'{wins = }, {losses = }, {ties = }')"
   ]
  },
  {
   "cell_type": "markdown",
   "metadata": {},
   "source": [
    "Practice may not make perfect, but it makes improvement. Oh what what if we train the agent against the actual policy it will play against when tested?"
   ]
  },
  {
   "cell_type": "code",
   "execution_count": 6,
   "metadata": {},
   "outputs": [
    {
     "name": "stdout",
     "output_type": "stream",
     "text": [
      "wins = 81, losses = 2, ties = 17\n"
     ]
    }
   ],
   "source": [
    "for _ in range(training_games):\n",
    "    play_game(agent, opponent = testing_opponent, training = True, agent_starts = False)\n",
    "\n",
    "wins = losses = 0\n",
    "for _ in range(testing_games):\n",
    "    outcome = play_game(agent, opponent = testing_opponent, agent_starts = False)\n",
    "    if outcome == 'Win':\n",
    "        wins += 1\n",
    "    if outcome == 'Loss':\n",
    "        losses += 1\n",
    "ties = testing_games - wins - losses\n",
    "print(f'{wins = }, {losses = }, {ties = }')"
   ]
  },
  {
   "cell_type": "markdown",
   "metadata": {},
   "source": [
    "Much better. Of course more training ==> better results"
   ]
  }
 ],
 "metadata": {
  "kernelspec": {
   "display_name": "comp-int",
   "language": "python",
   "name": "python3"
  },
  "language_info": {
   "codemirror_mode": {
    "name": "ipython",
    "version": 3
   },
   "file_extension": ".py",
   "mimetype": "text/x-python",
   "name": "python",
   "nbconvert_exporter": "python",
   "pygments_lexer": "ipython3",
   "version": "3.12.0"
  }
 },
 "nbformat": 4,
 "nbformat_minor": 2
}
