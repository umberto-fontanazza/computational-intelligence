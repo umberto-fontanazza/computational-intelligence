{
 "cells": [
  {
   "cell_type": "markdown",
   "id": "185f9931-b384-4fdc-a5b2-eea785428bb8",
   "metadata": {},
   "source": [
    "Copyright **`(c)`** 2023 Giovanni Squillero `<giovanni.squillero@polito.it>`  \n",
    "[`https://github.com/squillero/computational-intelligence`](https://github.com/squillero/computational-intelligence)  \n",
    "Free for personal or classroom use; see [`LICENSE.md`](https://github.com/squillero/computational-intelligence/blob/master/LICENSE.md) for details.  "
   ]
  },
  {
   "cell_type": "code",
   "execution_count": 11,
   "id": "3ffe7245-e849-41d0-9698-5f0e0b83fee9",
   "metadata": {},
   "outputs": [],
   "source": [
    "from itertools import product\n",
    "from random import random, randint, shuffle, seed\n",
    "import numpy as np\n",
    "from nptyping import NDArray, Shape, Int, Bool\n",
    "from scipy import sparse"
   ]
  },
  {
   "cell_type": "code",
   "execution_count": 12,
   "id": "6f03bd67-78a0-4d72-95b7-77a918727b91",
   "metadata": {},
   "outputs": [],
   "source": [
    "seed_initializer = 2654435761\n",
    "\n",
    "def make_set_covering_problem(num_points, num_sets, density):\n",
    "    \"\"\"Returns a sparse array where rows are sets and columns are the covered items\"\"\"\n",
    "    seed(num_points * seed_initializer + num_sets + density)\n",
    "    sets = sparse.lil_array((num_sets, num_points), dtype=bool)\n",
    "    for s, p in product(range(num_sets), range(num_points)):\n",
    "        if random() < density:\n",
    "            sets[s, p] = True\n",
    "    for p in range(num_points):\n",
    "        sets[randint(0, num_sets-1), p] = True\n",
    "    return sets"
   ]
  },
  {
   "cell_type": "markdown",
   "id": "82b0be37-21d9-492d-9a1d-cf0cdf0ddd76",
   "metadata": {},
   "source": [
    "# Halloween Challenge\n",
    "\n",
    "Find the best solution with the fewest calls to the fitness functions for:\n",
    "\n",
    "* `num_points = [100, 1_000, 5_000]`\n",
    "* `num_sets = num_points`\n",
    "* `density = [.3, .7]` "
   ]
  },
  {
   "cell_type": "code",
   "execution_count": 13,
   "id": "221ffdba-5d3d-48cc-bd08-45ccc9366ea6",
   "metadata": {},
   "outputs": [
    {
     "name": "stdout",
     "output_type": "stream",
     "text": [
      "Element at row=42 and column=42: False\n"
     ]
    }
   ],
   "source": [
    "x = make_set_covering_problem(1000, 1000, .3)\n",
    "print(\"Element at row=42 and column=42:\", x[42, 42])"
   ]
  },
  {
   "cell_type": "code",
   "execution_count": 14,
   "id": "6492337b-8429-472d-9c3e-c79c5b46da54",
   "metadata": {},
   "outputs": [],
   "source": [
    "covering_sets: sparse.lil_array = make_set_covering_problem(num_points=5, num_sets=10, density=.1)"
   ]
  },
  {
   "cell_type": "code",
   "execution_count": 15,
   "id": "49fdc5db",
   "metadata": {},
   "outputs": [
    {
     "name": "stdout",
     "output_type": "stream",
     "text": [
      "  (0, 3)\tTrue\n",
      "  (2, 2)\tTrue\n",
      "  (2, 4)\tTrue\n",
      "  (3, 1)\tTrue\n",
      "  (3, 2)\tTrue\n",
      "  (4, 1)\tTrue\n",
      "  (4, 2)\tTrue\n",
      "  (4, 4)\tTrue\n",
      "  (5, 1)\tTrue\n",
      "  (5, 4)\tTrue\n",
      "  (7, 1)\tTrue\n",
      "  (8, 0)\tTrue\n",
      "  (9, 0)\tTrue\n",
      "  (9, 1)\tTrue\n"
     ]
    }
   ],
   "source": [
    "print(covering_sets)"
   ]
  },
  {
   "cell_type": "code",
   "execution_count": 16,
   "id": "3c4368be",
   "metadata": {},
   "outputs": [],
   "source": [
    "def overlap_sets(covering_sets: sparse.lil_array) -> NDArray[Shape[\"1, ...\"], Bool]:\n",
    "    sum: NDArray[Shape[\"1, ...\"], Int] = covering_sets.sum(axis=0)\n",
    "    boolean_array_mapper = np.vectorize(lambda x: x > 0)\n",
    "    return boolean_array_mapper(sum)"
   ]
  },
  {
   "cell_type": "code",
   "execution_count": 17,
   "id": "a3b90904",
   "metadata": {},
   "outputs": [],
   "source": [
    "\"\"\" def filter_covering_sets(covering_sets: sparse.lil_array, rows_indices: list[int]) -> sparse.lil_array:\n",
    "    matrix = sparse.lil_matrix(covering_sets)\n",
    "    filtered_matrix = matrix[rows_indices, :]\n",
    "    return sparse.lil_array(filtered_matrix) \"\"\""
   ]
  },
  {
   "cell_type": "code",
   "execution_count": 18,
   "id": "4800c244",
   "metadata": {},
   "outputs": [],
   "source": [
    "def fitness(state: list[bool]):\n",
    "    taken_sets_indices: list[int] = [i for i, x in enumerate(state) if x]\n",
    "    # taken_sets: sparse.lil_array = filter_covering_sets(covering_sets, taken_sets_indices)\n",
    "    taken_sets: sparse.lil_array = covering_sets[taken_sets_indices, :] # type: ignore\n",
    "    reduced = overlap_sets(taken_sets)\n",
    "    coverage = sum(reduced)\n",
    "    cost = len(taken_sets_indices)\n",
    "    return (coverage, -cost)"
   ]
  },
  {
   "cell_type": "code",
   "execution_count": 19,
   "id": "e4c4ed6b",
   "metadata": {},
   "outputs": [
    {
     "name": "stdout",
     "output_type": "stream",
     "text": [
      "(3, -2)\n"
     ]
    }
   ],
   "source": [
    "print(fitness([True, False, False, True, False, False, False, False, False, False]))"
   ]
  }
 ],
 "metadata": {
  "kernelspec": {
   "display_name": "Python 3 (ipykernel)",
   "language": "python",
   "name": "python3"
  },
  "language_info": {
   "codemirror_mode": {
    "name": "ipython",
    "version": 3
   },
   "file_extension": ".py",
   "mimetype": "text/x-python",
   "name": "python",
   "nbconvert_exporter": "python",
   "pygments_lexer": "ipython3",
   "version": "3.12.0"
  }
 },
 "nbformat": 4,
 "nbformat_minor": 5
}
